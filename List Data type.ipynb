{
 "cells": [
  {
   "cell_type": "markdown",
   "id": "63ee5434",
   "metadata": {},
   "source": [
    "# List datatype"
   ]
  },
  {
   "cell_type": "code",
   "execution_count": 1,
   "id": "e3c6bba6",
   "metadata": {},
   "outputs": [],
   "source": [
    "#List is ordered sequence of elements\n",
    "#List is mutable data type"
   ]
  },
  {
   "cell_type": "code",
   "execution_count": 2,
   "id": "c1aec1c3",
   "metadata": {},
   "outputs": [
    {
     "name": "stdout",
     "output_type": "stream",
     "text": [
      "<class 'list'>\n",
      "<class 'list'>\n",
      "<class 'list'>\n",
      "<class 'list'>\n",
      "<class 'list'>\n",
      "<class 'list'>\n",
      "[1, 2, 3, 4]\n",
      "[1.1, 2.2, 3.3, 4.4]\n",
      "['chetan', 'manish', 'karan', 'dimple']\n",
      "[(1+2j), (6+3j), (9+2j)]\n",
      "[4, 1, [3, 4, 0], [1, 2], 9]\n",
      "[5, 6.6, ['name', 'class'], {'geeks', 'for'}]\n"
     ]
    }
   ],
   "source": [
    "list_1=[1,2,3,4] #list of integers\n",
    "list_2=[1.1,2.2,3.3,4.4] #list of float\n",
    "list_3=['chetan','manish','karan','dimple'] #list of string\n",
    "list_4=[1+2j,6+3j,9+2j] #list of complext\n",
    "list_5=[4,1,[3,4,0],[1,2],9] #nested list\n",
    "list_6=[5,6.6,['name','class'],{'geeks','for','geeks'}] #list with different data types\n",
    "print(type(list_1),type(list_2),type(list_3),type(list_4),type(list_5),type(list_6),sep='\\n')\n",
    "print(list_1,list_2,list_3,list_4,list_5,list_6,sep='\\n')"
   ]
  },
  {
   "cell_type": "code",
   "execution_count": 3,
   "id": "1870c6a6",
   "metadata": {},
   "outputs": [
    {
     "name": "stdout",
     "output_type": "stream",
     "text": [
      "4\n",
      "4\n",
      "4\n",
      "3\n",
      "5\n",
      "4\n"
     ]
    }
   ],
   "source": [
    "#finding length of list\n",
    "print(len(list_1),len(list_2),len(list_3),len(list_4),len(list_5),len(list_6),sep='\\n')"
   ]
  },
  {
   "cell_type": "code",
   "execution_count": 5,
   "id": "41f8b59d",
   "metadata": {},
   "outputs": [
    {
     "name": "stdout",
     "output_type": "stream",
     "text": [
      "1.1\n",
      "2.2\n",
      "3.3\n",
      "4.4\n"
     ]
    }
   ],
   "source": [
    "#accessing list elements\n",
    "for i in range(len(list_2)):\n",
    "    print(list_2[i])"
   ]
  },
  {
   "cell_type": "code",
   "execution_count": 7,
   "id": "45f630db",
   "metadata": {},
   "outputs": [
    {
     "name": "stdout",
     "output_type": "stream",
     "text": [
      "[1, 2, 3]\n",
      "[3, 4]\n",
      "[3, 4]\n",
      "[2, 3, 4]\n"
     ]
    }
   ],
   "source": [
    "#list slicing\n",
    "print(list_1[0:3])\n",
    "print(list_1[2:])\n",
    "print(list_1[2:4])\n",
    "print(list_1[-3:])"
   ]
  },
  {
   "cell_type": "markdown",
   "id": "6e0b3fc3",
   "metadata": {},
   "source": [
    "# append()\n",
    "adds an element at the end of the list"
   ]
  },
  {
   "cell_type": "code",
   "execution_count": 8,
   "id": "12a44052",
   "metadata": {},
   "outputs": [
    {
     "name": "stdout",
     "output_type": "stream",
     "text": [
      "list before adding element= [1, 2, 3, 4]\n",
      "list after appending element= [1, 2, 3, 4, 9]\n"
     ]
    }
   ],
   "source": [
    "print(\"list before adding element=\",list_1)\n",
    "list_1.append(9)\n",
    "print(\"list after appending element=\",list_1)"
   ]
  },
  {
   "cell_type": "markdown",
   "id": "b4578d39",
   "metadata": {},
   "source": [
    "# insert(a,b)\n",
    "insert element \"b\" at index \"a\""
   ]
  },
  {
   "cell_type": "code",
   "execution_count": 12,
   "id": "3a69779f",
   "metadata": {},
   "outputs": [
    {
     "name": "stdout",
     "output_type": "stream",
     "text": [
      "list before inserting element= ['chetan', 'manish', 'karan', 'Manaswi', 'dimple', 'Manaswi', 'Manaswi']\n",
      "list after inserting element= ['chetan', 'manish', 'karan', 'Manaswi', 'Manaswi', 'dimple', 'Manaswi', 'Manaswi']\n"
     ]
    }
   ],
   "source": [
    "print(\"list before inserting element=\",list_3)\n",
    "list_3.insert(3,'Manaswi')\n",
    "print(\"list after inserting element=\",list_3)"
   ]
  },
  {
   "cell_type": "markdown",
   "id": "51190c6a",
   "metadata": {},
   "source": [
    "# remove(a)\n",
    "remove element \"a\" from the list"
   ]
  },
  {
   "cell_type": "code",
   "execution_count": 13,
   "id": "2341f4d5",
   "metadata": {},
   "outputs": [
    {
     "name": "stdout",
     "output_type": "stream",
     "text": [
      "list before removing element= ['chetan', 'manish', 'karan', 'Manaswi', 'Manaswi', 'dimple', 'Manaswi', 'Manaswi']\n",
      "list after removing element= ['chetan', 'manish', 'karan', 'Manaswi', 'dimple', 'Manaswi', 'Manaswi']\n"
     ]
    }
   ],
   "source": [
    "print(\"list before removing element=\",list_3)\n",
    "list_3.remove('Manaswi')\n",
    "print(\"list after removing element=\",list_3)"
   ]
  },
  {
   "cell_type": "code",
   "execution_count": 15,
   "id": "95fa02c5",
   "metadata": {},
   "outputs": [
    {
     "name": "stdout",
     "output_type": "stream",
     "text": [
      "list before removing element= ['chetan', 'manish', 'karan', 'Manaswi', 'dimple', 'Manaswi', 'Manaswi']\n",
      "list after removing element= ['manish', 'karan', 'Manaswi', 'dimple', 'Manaswi', 'Manaswi']\n"
     ]
    }
   ],
   "source": [
    "print(\"list before removing element=\",list_3)\n",
    "list_3.remove('chetan')\n",
    "print(\"list after removing element=\",list_3)"
   ]
  },
  {
   "cell_type": "code",
   "execution_count": 16,
   "id": "9bf3dd37",
   "metadata": {},
   "outputs": [
    {
     "name": "stdout",
     "output_type": "stream",
     "text": [
      "list before removing element= ['manish', 'karan', 'Manaswi', 'dimple', 'Manaswi', 'Manaswi']\n"
     ]
    },
    {
     "ename": "ValueError",
     "evalue": "list.remove(x): x not in list",
     "output_type": "error",
     "traceback": [
      "\u001b[1;31m---------------------------------------------------------------------------\u001b[0m",
      "\u001b[1;31mValueError\u001b[0m                                Traceback (most recent call last)",
      "\u001b[1;32m~\\AppData\\Local\\Temp/ipykernel_12208/2407376621.py\u001b[0m in \u001b[0;36m<module>\u001b[1;34m\u001b[0m\n\u001b[0;32m      1\u001b[0m \u001b[0mprint\u001b[0m\u001b[1;33m(\u001b[0m\u001b[1;34m\"list before removing element=\"\u001b[0m\u001b[1;33m,\u001b[0m\u001b[0mlist_3\u001b[0m\u001b[1;33m)\u001b[0m\u001b[1;33m\u001b[0m\u001b[1;33m\u001b[0m\u001b[0m\n\u001b[1;32m----> 2\u001b[1;33m \u001b[0mlist_3\u001b[0m\u001b[1;33m.\u001b[0m\u001b[0mremove\u001b[0m\u001b[1;33m(\u001b[0m\u001b[1;34m'cat'\u001b[0m\u001b[1;33m)\u001b[0m\u001b[1;33m\u001b[0m\u001b[1;33m\u001b[0m\u001b[0m\n\u001b[0m\u001b[0;32m      3\u001b[0m \u001b[0mprint\u001b[0m\u001b[1;33m(\u001b[0m\u001b[1;34m\"list after removing element=\"\u001b[0m\u001b[1;33m,\u001b[0m\u001b[0mlist_3\u001b[0m\u001b[1;33m)\u001b[0m\u001b[1;33m\u001b[0m\u001b[1;33m\u001b[0m\u001b[0m\n",
      "\u001b[1;31mValueError\u001b[0m: list.remove(x): x not in list"
     ]
    }
   ],
   "source": [
    "print(\"list before removing element=\",list_3)\n",
    "list_3.remove('cat') #error if element not found in list\n",
    "print(\"list after removing element=\",list_3)"
   ]
  },
  {
   "cell_type": "markdown",
   "id": "1a715263",
   "metadata": {},
   "source": [
    "# pop()\n",
    "remove last element from the list"
   ]
  },
  {
   "cell_type": "code",
   "execution_count": 17,
   "id": "b78e5a0d",
   "metadata": {},
   "outputs": [
    {
     "name": "stdout",
     "output_type": "stream",
     "text": [
      "list before pop operation= ['manish', 'karan', 'Manaswi', 'dimple', 'Manaswi', 'Manaswi']\n",
      "list after pop operation= ['manish', 'karan', 'Manaswi', 'dimple', 'Manaswi']\n"
     ]
    }
   ],
   "source": [
    "print(\"list before pop operation=\",list_3)\n",
    "list_3.pop()\n",
    "print(\"list after pop operation=\",list_3)"
   ]
  },
  {
   "cell_type": "markdown",
   "id": "2025b48d",
   "metadata": {},
   "source": [
    "# pop(a)\n",
    "remove element from index \"a\" of list"
   ]
  },
  {
   "cell_type": "code",
   "execution_count": 18,
   "id": "c7f9fa0c",
   "metadata": {},
   "outputs": [
    {
     "name": "stdout",
     "output_type": "stream",
     "text": [
      "list before pop operation= ['manish', 'karan', 'Manaswi', 'dimple', 'Manaswi']\n",
      "list after pop operation= ['manish', 'karan', 'Manaswi', 'dimple']\n"
     ]
    }
   ],
   "source": [
    "print(\"list before pop operation=\",list_3)\n",
    "list_3.pop(4)\n",
    "print(\"list after pop operation=\",list_3)"
   ]
  },
  {
   "cell_type": "code",
   "execution_count": 19,
   "id": "a7ccb326",
   "metadata": {},
   "outputs": [
    {
     "name": "stdout",
     "output_type": "stream",
     "text": [
      "list before pop operation= ['manish', 'karan', 'Manaswi', 'dimple']\n"
     ]
    },
    {
     "ename": "IndexError",
     "evalue": "pop index out of range",
     "output_type": "error",
     "traceback": [
      "\u001b[1;31m---------------------------------------------------------------------------\u001b[0m",
      "\u001b[1;31mIndexError\u001b[0m                                Traceback (most recent call last)",
      "\u001b[1;32m~\\AppData\\Local\\Temp/ipykernel_12208/3104120926.py\u001b[0m in \u001b[0;36m<module>\u001b[1;34m\u001b[0m\n\u001b[0;32m      1\u001b[0m \u001b[0mprint\u001b[0m\u001b[1;33m(\u001b[0m\u001b[1;34m\"list before pop operation=\"\u001b[0m\u001b[1;33m,\u001b[0m\u001b[0mlist_3\u001b[0m\u001b[1;33m)\u001b[0m\u001b[1;33m\u001b[0m\u001b[1;33m\u001b[0m\u001b[0m\n\u001b[1;32m----> 2\u001b[1;33m \u001b[0mlist_3\u001b[0m\u001b[1;33m.\u001b[0m\u001b[0mpop\u001b[0m\u001b[1;33m(\u001b[0m\u001b[1;36m5\u001b[0m\u001b[1;33m)\u001b[0m\u001b[1;33m\u001b[0m\u001b[1;33m\u001b[0m\u001b[0m\n\u001b[0m\u001b[0;32m      3\u001b[0m \u001b[0mprint\u001b[0m\u001b[1;33m(\u001b[0m\u001b[1;34m\"list after pop operation=\"\u001b[0m\u001b[1;33m,\u001b[0m\u001b[0mlist_3\u001b[0m\u001b[1;33m)\u001b[0m\u001b[1;33m\u001b[0m\u001b[1;33m\u001b[0m\u001b[0m\n",
      "\u001b[1;31mIndexError\u001b[0m: pop index out of range"
     ]
    }
   ],
   "source": [
    "print(\"list before pop operation=\",list_3)\n",
    "list_3.pop(5) #error due to out of bound index\n",
    "print(\"list after pop operation=\",list_3)"
   ]
  },
  {
   "cell_type": "markdown",
   "id": "fffddd11",
   "metadata": {},
   "source": [
    "# del"
   ]
  },
  {
   "cell_type": "code",
   "execution_count": 20,
   "id": "42cf3d4e",
   "metadata": {},
   "outputs": [
    {
     "name": "stdout",
     "output_type": "stream",
     "text": [
      "list before the delete operation= ['manish', 'karan', 'Manaswi', 'dimple']\n",
      "list after the delete operation= ['manish', 'karan', 'dimple']\n"
     ]
    }
   ],
   "source": [
    "print(\"list before the delete operation=\",list_3)\n",
    "del list_3[2] # delete element at index 2\n",
    "print(\"list after the delete operation=\",list_3)"
   ]
  },
  {
   "cell_type": "markdown",
   "id": "2aa16bd1",
   "metadata": {},
   "source": [
    "# clear()\n",
    "delete all elements of the list"
   ]
  },
  {
   "cell_type": "code",
   "execution_count": 21,
   "id": "e7d0f1d6",
   "metadata": {},
   "outputs": [
    {
     "name": "stdout",
     "output_type": "stream",
     "text": [
      "list before the clear operation= ['manish', 'karan', 'dimple']\n",
      "list after the clear operation= []\n"
     ]
    }
   ],
   "source": [
    "print(\"list before the clear operation=\",list_3)\n",
    "list_3.clear()\n",
    "print(\"list after the clear operation=\",list_3)"
   ]
  },
  {
   "cell_type": "code",
   "execution_count": 22,
   "id": "a10a9e08",
   "metadata": {},
   "outputs": [],
   "source": [
    "del list_3 #deleting list_3"
   ]
  },
  {
   "cell_type": "markdown",
   "id": "af9134f0",
   "metadata": {},
   "source": [
    "# copy()"
   ]
  },
  {
   "cell_type": "code",
   "execution_count": 24,
   "id": "75d74501",
   "metadata": {},
   "outputs": [],
   "source": [
    "new_list=['one','two','three','four','five','six','seven','eight','nine']"
   ]
  },
  {
   "cell_type": "code",
   "execution_count": 25,
   "id": "2890cd85",
   "metadata": {},
   "outputs": [],
   "source": [
    "new_list_1=new_list"
   ]
  },
  {
   "cell_type": "code",
   "execution_count": 26,
   "id": "e5d8e3e1",
   "metadata": {},
   "outputs": [
    {
     "name": "stdout",
     "output_type": "stream",
     "text": [
      "location of new_list_1= 2358083277952\n",
      "location of new_list= 2358083277952\n"
     ]
    }
   ],
   "source": [
    "print(\"location of new_list_1=\",id(new_list_1))\n",
    "print(\"location of new_list=\",id(new_list))           "
   ]
  },
  {
   "cell_type": "code",
   "execution_count": 27,
   "id": "0b75b4cf",
   "metadata": {},
   "outputs": [],
   "source": [
    "#id(new_list_1)=id(new_list) as both are refrencing to same memory location"
   ]
  },
  {
   "cell_type": "code",
   "execution_count": 28,
   "id": "3add63c7",
   "metadata": {},
   "outputs": [],
   "source": [
    "new_list_2=new_list.copy()"
   ]
  },
  {
   "cell_type": "code",
   "execution_count": 29,
   "id": "697d791a",
   "metadata": {},
   "outputs": [
    {
     "name": "stdout",
     "output_type": "stream",
     "text": [
      "location of new_list_2= 2358083267200\n",
      "location of new_list= 2358083277952\n"
     ]
    }
   ],
   "source": [
    "print(\"location of new_list_2=\",id(new_list_2))\n",
    "print(\"location of new_list=\",id(new_list))"
   ]
  },
  {
   "cell_type": "code",
   "execution_count": 30,
   "id": "48bea382",
   "metadata": {},
   "outputs": [],
   "source": [
    "#id(new_list_2)!=id(new_list) as both are referencing to different memory location eventough elements are same"
   ]
  },
  {
   "cell_type": "code",
   "execution_count": 31,
   "id": "5ec23f8e",
   "metadata": {},
   "outputs": [],
   "source": [
    "del new_list\n",
    "del new_list_1\n",
    "del new_list_2\n",
    "del list_1\n",
    "del list_2\n",
    "del list_4\n",
    "del list_5\n",
    "del list_6"
   ]
  },
  {
   "cell_type": "markdown",
   "id": "985595b7",
   "metadata": {},
   "source": [
    "# join"
   ]
  },
  {
   "cell_type": "code",
   "execution_count": 32,
   "id": "90f593c7",
   "metadata": {},
   "outputs": [
    {
     "data": {
      "text/plain": [
       "[1, 2, 3, 4, 5, 6, 7, 8]"
      ]
     },
     "execution_count": 32,
     "metadata": {},
     "output_type": "execute_result"
    }
   ],
   "source": [
    "list_1=[1,2,3,4]\n",
    "list_2=[5,6,7,8]\n",
    "list_3=list_1+list_2\n",
    "list_3"
   ]
  },
  {
   "cell_type": "code",
   "execution_count": 33,
   "id": "fcaf2cbb",
   "metadata": {},
   "outputs": [
    {
     "data": {
      "text/plain": [
       "[1, 2, 3, 4, 5, 6, 7, 8, 1, 2, 3, 4]"
      ]
     },
     "execution_count": 33,
     "metadata": {},
     "output_type": "execute_result"
    }
   ],
   "source": [
    "list_3=list_3+list([1,2,3,4])\n",
    "list_3"
   ]
  },
  {
   "cell_type": "markdown",
   "id": "6aa5695d",
   "metadata": {},
   "source": [
    "# extend()"
   ]
  },
  {
   "cell_type": "code",
   "execution_count": 34,
   "id": "88a4eb5b",
   "metadata": {},
   "outputs": [
    {
     "data": {
      "text/plain": [
       "[1, 2, 3, 4, 5, 6, 7, 8, 1, 2, 3, 4, 4, 5, 6, 7]"
      ]
     },
     "execution_count": 34,
     "metadata": {},
     "output_type": "execute_result"
    }
   ],
   "source": [
    "list_3.extend(list([4,5,6,7]))\n",
    "list_3"
   ]
  },
  {
   "cell_type": "markdown",
   "id": "ad99e3ad",
   "metadata": {},
   "source": [
    "# reverse()"
   ]
  },
  {
   "cell_type": "code",
   "execution_count": 35,
   "id": "3d8aebde",
   "metadata": {},
   "outputs": [
    {
     "data": {
      "text/plain": [
       "[7, 6, 5, 4, 4, 3, 2, 1, 8, 7, 6, 5, 4, 3, 2, 1]"
      ]
     },
     "execution_count": 35,
     "metadata": {},
     "output_type": "execute_result"
    }
   ],
   "source": [
    "list_3.reverse()\n",
    "list_3"
   ]
  },
  {
   "cell_type": "code",
   "execution_count": 36,
   "id": "2356e96c",
   "metadata": {},
   "outputs": [
    {
     "data": {
      "text/plain": [
       "[1, 2, 3, 4, 5, 6, 7, 8, 1, 2, 3, 4, 4, 5, 6, 7]"
      ]
     },
     "execution_count": 36,
     "metadata": {},
     "output_type": "execute_result"
    }
   ],
   "source": [
    "list_3=list_3[::-1]\n",
    "list_3"
   ]
  },
  {
   "cell_type": "markdown",
   "id": "b0743124",
   "metadata": {},
   "source": [
    "# sort()"
   ]
  },
  {
   "cell_type": "code",
   "execution_count": 37,
   "id": "ce45d964",
   "metadata": {},
   "outputs": [
    {
     "data": {
      "text/plain": [
       "[1, 1, 2, 2, 3, 3, 4, 4, 4, 5, 5, 6, 6, 7, 7, 8]"
      ]
     },
     "execution_count": 37,
     "metadata": {},
     "output_type": "execute_result"
    }
   ],
   "source": [
    "list_3.sort()\n",
    "list_3"
   ]
  },
  {
   "cell_type": "code",
   "execution_count": 38,
   "id": "f59d3743",
   "metadata": {},
   "outputs": [
    {
     "data": {
      "text/plain": [
       "[8, 7, 7, 6, 6, 5, 5, 4, 4, 4, 3, 3, 2, 2, 1, 1]"
      ]
     },
     "execution_count": 38,
     "metadata": {},
     "output_type": "execute_result"
    }
   ],
   "source": [
    "list_3.sort(reverse=True)\n",
    "list_3"
   ]
  },
  {
   "cell_type": "markdown",
   "id": "09ee06c3",
   "metadata": {},
   "source": [
    "# sorted()\n",
    "return an sorted list \n",
    "does not change the original list"
   ]
  },
  {
   "cell_type": "code",
   "execution_count": 39,
   "id": "23072337",
   "metadata": {},
   "outputs": [
    {
     "data": {
      "text/plain": [
       "[1, 1, 2, 2, 3, 3, 4, 4, 4, 5, 5, 6, 6, 7, 7, 8]"
      ]
     },
     "execution_count": 39,
     "metadata": {},
     "output_type": "execute_result"
    }
   ],
   "source": [
    "sorted(list_3)"
   ]
  },
  {
   "cell_type": "code",
   "execution_count": 40,
   "id": "7f3246d1",
   "metadata": {},
   "outputs": [
    {
     "data": {
      "text/plain": [
       "[8, 7, 7, 6, 6, 5, 5, 4, 4, 4, 3, 3, 2, 2, 1, 1]"
      ]
     },
     "execution_count": 40,
     "metadata": {},
     "output_type": "execute_result"
    }
   ],
   "source": [
    "list_3"
   ]
  },
  {
   "cell_type": "markdown",
   "id": "e32213b9",
   "metadata": {},
   "source": [
    "# count(a)\n",
    "return frequency of \"a\" in the list"
   ]
  },
  {
   "cell_type": "code",
   "execution_count": 41,
   "id": "e12e57ab",
   "metadata": {},
   "outputs": [
    {
     "data": {
      "text/plain": [
       "2"
      ]
     },
     "execution_count": 41,
     "metadata": {},
     "output_type": "execute_result"
    }
   ],
   "source": [
    "list_3.count(7)"
   ]
  },
  {
   "cell_type": "code",
   "execution_count": 42,
   "id": "ba8357a2",
   "metadata": {},
   "outputs": [
    {
     "data": {
      "text/plain": [
       "3"
      ]
     },
     "execution_count": 42,
     "metadata": {},
     "output_type": "execute_result"
    }
   ],
   "source": [
    "list_3.count(4)"
   ]
  },
  {
   "cell_type": "code",
   "execution_count": 43,
   "id": "28e09b65",
   "metadata": {},
   "outputs": [
    {
     "data": {
      "text/plain": [
       "2"
      ]
     },
     "execution_count": 43,
     "metadata": {},
     "output_type": "execute_result"
    }
   ],
   "source": [
    "list_3.count(1)"
   ]
  },
  {
   "cell_type": "code",
   "execution_count": 44,
   "id": "5d6f5669",
   "metadata": {},
   "outputs": [],
   "source": [
    "del list_3"
   ]
  },
  {
   "cell_type": "markdown",
   "id": "632f6ff4",
   "metadata": {},
   "source": [
    "# list comprihension"
   ]
  },
  {
   "cell_type": "code",
   "execution_count": 46,
   "id": "b57cc8bc",
   "metadata": {},
   "outputs": [
    {
     "data": {
      "text/plain": [
       "[0, 1, 2, 3, 4, 5, 6, 7, 8, 9]"
      ]
     },
     "execution_count": 46,
     "metadata": {},
     "output_type": "execute_result"
    }
   ],
   "source": [
    "list=[i for i in range(10)]\n",
    "list"
   ]
  },
  {
   "cell_type": "code",
   "execution_count": 47,
   "id": "c4af82d7",
   "metadata": {
    "scrolled": false
   },
   "outputs": [
    {
     "data": {
      "text/plain": [
       "[0,\n",
       " 2,\n",
       " 4,\n",
       " 6,\n",
       " 8,\n",
       " 10,\n",
       " 12,\n",
       " 14,\n",
       " 16,\n",
       " 18,\n",
       " 20,\n",
       " 22,\n",
       " 24,\n",
       " 26,\n",
       " 28,\n",
       " 30,\n",
       " 32,\n",
       " 34,\n",
       " 36,\n",
       " 38,\n",
       " 40,\n",
       " 42,\n",
       " 44,\n",
       " 46,\n",
       " 48]"
      ]
     },
     "execution_count": 47,
     "metadata": {},
     "output_type": "execute_result"
    }
   ],
   "source": [
    "list_1=[i for i in range(50) if i%2==0]\n",
    "list_1"
   ]
  },
  {
   "cell_type": "code",
   "execution_count": 48,
   "id": "8f427157",
   "metadata": {},
   "outputs": [
    {
     "data": {
      "text/plain": [
       "[31, 33, 35, 37, 39, 41, 43, 45, 47, 49]"
      ]
     },
     "execution_count": 48,
     "metadata": {},
     "output_type": "execute_result"
    }
   ],
   "source": [
    "list_2=[i for i in range(50) if i>=30 if i%2==1]\n",
    "list_2"
   ]
  },
  {
   "cell_type": "code",
   "execution_count": 49,
   "id": "23418097",
   "metadata": {
    "scrolled": false
   },
   "outputs": [
    {
     "data": {
      "text/plain": [
       "[62, 66, 70, 74, 78, 82, 86, 90, 94, 98]"
      ]
     },
     "execution_count": 49,
     "metadata": {},
     "output_type": "execute_result"
    }
   ],
   "source": [
    "list_2=[i*2 for i in list_2]\n",
    "list_2"
   ]
  },
  {
   "cell_type": "markdown",
   "id": "39c53a9c",
   "metadata": {},
   "source": [
    "# index(a,start,end)\n",
    "return first index of element \"a\" in the list from  index \"start\" to \"end-1\"\n",
    "raise Valueerror if \"a\" is not found in the list"
   ]
  },
  {
   "cell_type": "code",
   "execution_count": 1,
   "id": "9870f3a1",
   "metadata": {},
   "outputs": [
    {
     "name": "stdout",
     "output_type": "stream",
     "text": [
      "[3, 2, 5, 1, 6, 9, 8, 1]\n"
     ]
    }
   ],
   "source": [
    "list_1=[3,2,5,1,6,9,8,1]\n",
    "print(list_1)"
   ]
  },
  {
   "cell_type": "code",
   "execution_count": 2,
   "id": "09eea8b9",
   "metadata": {},
   "outputs": [
    {
     "data": {
      "text/plain": [
       "3"
      ]
     },
     "execution_count": 2,
     "metadata": {},
     "output_type": "execute_result"
    }
   ],
   "source": [
    "list_1.index(1)"
   ]
  },
  {
   "cell_type": "code",
   "execution_count": 3,
   "id": "13006204",
   "metadata": {},
   "outputs": [
    {
     "data": {
      "text/plain": [
       "6"
      ]
     },
     "execution_count": 3,
     "metadata": {},
     "output_type": "execute_result"
    }
   ],
   "source": [
    "list_1.index(8)"
   ]
  },
  {
   "cell_type": "code",
   "execution_count": 4,
   "id": "1841289f",
   "metadata": {},
   "outputs": [
    {
     "ename": "ValueError",
     "evalue": "7 is not in list",
     "output_type": "error",
     "traceback": [
      "\u001b[1;31m---------------------------------------------------------------------------\u001b[0m",
      "\u001b[1;31mValueError\u001b[0m                                Traceback (most recent call last)",
      "\u001b[1;32m~\\AppData\\Local\\Temp/ipykernel_16876/2435510970.py\u001b[0m in \u001b[0;36m<module>\u001b[1;34m\u001b[0m\n\u001b[1;32m----> 1\u001b[1;33m \u001b[0mlist_1\u001b[0m\u001b[1;33m.\u001b[0m\u001b[0mindex\u001b[0m\u001b[1;33m(\u001b[0m\u001b[1;36m7\u001b[0m\u001b[1;33m)\u001b[0m\u001b[1;33m\u001b[0m\u001b[1;33m\u001b[0m\u001b[0m\n\u001b[0m",
      "\u001b[1;31mValueError\u001b[0m: 7 is not in list"
     ]
    }
   ],
   "source": [
    "list_1.index(7)"
   ]
  },
  {
   "cell_type": "code",
   "execution_count": 5,
   "id": "c1b7bb10",
   "metadata": {},
   "outputs": [
    {
     "ename": "ValueError",
     "evalue": "2 is not in list",
     "output_type": "error",
     "traceback": [
      "\u001b[1;31m---------------------------------------------------------------------------\u001b[0m",
      "\u001b[1;31mValueError\u001b[0m                                Traceback (most recent call last)",
      "\u001b[1;32m~\\AppData\\Local\\Temp/ipykernel_16876/1514894440.py\u001b[0m in \u001b[0;36m<module>\u001b[1;34m\u001b[0m\n\u001b[1;32m----> 1\u001b[1;33m \u001b[0mlist_1\u001b[0m\u001b[1;33m.\u001b[0m\u001b[0mindex\u001b[0m\u001b[1;33m(\u001b[0m\u001b[1;36m2\u001b[0m\u001b[1;33m,\u001b[0m\u001b[1;36m4\u001b[0m\u001b[1;33m,\u001b[0m\u001b[1;36m8\u001b[0m\u001b[1;33m)\u001b[0m\u001b[1;33m\u001b[0m\u001b[1;33m\u001b[0m\u001b[0m\n\u001b[0m",
      "\u001b[1;31mValueError\u001b[0m: 2 is not in list"
     ]
    }
   ],
   "source": [
    "list_1.index(2,4,8)"
   ]
  },
  {
   "cell_type": "code",
   "execution_count": 6,
   "id": "00a75785",
   "metadata": {},
   "outputs": [],
   "source": [
    "del list_1"
   ]
  },
  {
   "cell_type": "markdown",
   "id": "e6012113",
   "metadata": {},
   "source": [
    "# End of List"
   ]
  }
 ],
 "metadata": {
  "kernelspec": {
   "display_name": "Python 3 (ipykernel)",
   "language": "python",
   "name": "python3"
  },
  "language_info": {
   "codemirror_mode": {
    "name": "ipython",
    "version": 3
   },
   "file_extension": ".py",
   "mimetype": "text/x-python",
   "name": "python",
   "nbconvert_exporter": "python",
   "pygments_lexer": "ipython3",
   "version": "3.9.7"
  }
 },
 "nbformat": 4,
 "nbformat_minor": 5
}
