{
 "cells": [
  {
   "cell_type": "code",
   "execution_count": 1,
   "id": "8dd12c53",
   "metadata": {},
   "outputs": [
    {
     "name": "stdout",
     "output_type": "stream",
     "text": [
      "chetan bagra\n",
      "chetan bagra\n",
      "chetan\n",
      "            bagra\n",
      "chetan\n",
      "            bagra\n"
     ]
    }
   ],
   "source": [
    "str1='chetan bagra' #defining string with single quote\n",
    "str2=\"chetan bagra\" #defining string with double quote\n",
    "str3='''chetan\n",
    "            bagra'''#defining string with triple quote\n",
    "str4=\"\"\"chetan\n",
    "            bagra\"\"\"#defining string with triple quote\n",
    "print(str1,str2,str3,str4,sep=\"\\n\")"
   ]
  },
  {
   "cell_type": "code",
   "execution_count": 2,
   "id": "aa57c573",
   "metadata": {},
   "outputs": [
    {
     "data": {
      "text/plain": [
       "'mynameischetan'"
      ]
     },
     "execution_count": 2,
     "metadata": {},
     "output_type": "execute_result"
    }
   ],
   "source": [
    "str5=('my'\n",
    "     'name'\n",
    "     'is'\n",
    "     'chetan')\n",
    "str5"
   ]
  },
  {
   "cell_type": "code",
   "execution_count": 3,
   "id": "a7062433",
   "metadata": {},
   "outputs": [
    {
     "data": {
      "text/plain": [
       "'chetan bagrachetan bagrachetan bagrachetan bagrachetan bagra'"
      ]
     },
     "execution_count": 3,
     "metadata": {},
     "output_type": "execute_result"
    }
   ],
   "source": [
    "str6=str1*5\n",
    "str6"
   ]
  },
  {
   "cell_type": "code",
   "execution_count": 4,
   "id": "396204fa",
   "metadata": {},
   "outputs": [
    {
     "data": {
      "text/plain": [
       "60"
      ]
     },
     "execution_count": 4,
     "metadata": {},
     "output_type": "execute_result"
    }
   ],
   "source": [
    "len(str6) #return the length of the string"
   ]
  },
  {
   "cell_type": "markdown",
   "id": "abd63bc4",
   "metadata": {},
   "source": [
    "# String Indexing"
   ]
  },
  {
   "cell_type": "code",
   "execution_count": 5,
   "id": "470ac8d3",
   "metadata": {},
   "outputs": [
    {
     "data": {
      "text/plain": [
       "'e'"
      ]
     },
     "execution_count": 5,
     "metadata": {},
     "output_type": "execute_result"
    }
   ],
   "source": [
    "str1[2]"
   ]
  },
  {
   "cell_type": "code",
   "execution_count": 6,
   "id": "111fde6b",
   "metadata": {},
   "outputs": [
    {
     "data": {
      "text/plain": [
       "'n'"
      ]
     },
     "execution_count": 6,
     "metadata": {},
     "output_type": "execute_result"
    }
   ],
   "source": [
    "str1[5]"
   ]
  },
  {
   "cell_type": "code",
   "execution_count": 7,
   "id": "e32ca2ed",
   "metadata": {},
   "outputs": [
    {
     "data": {
      "text/plain": [
       "'etan'"
      ]
     },
     "execution_count": 7,
     "metadata": {},
     "output_type": "execute_result"
    }
   ],
   "source": [
    "str1[2:6]"
   ]
  },
  {
   "cell_type": "code",
   "execution_count": 8,
   "id": "0e650ae9",
   "metadata": {},
   "outputs": [
    {
     "data": {
      "text/plain": [
       "'ea '"
      ]
     },
     "execution_count": 8,
     "metadata": {},
     "output_type": "execute_result"
    }
   ],
   "source": [
    "str1[2:7:2]"
   ]
  },
  {
   "cell_type": "code",
   "execution_count": 13,
   "id": "a1783a20",
   "metadata": {},
   "outputs": [
    {
     "data": {
      "text/plain": [
       "'arga'"
      ]
     },
     "execution_count": 13,
     "metadata": {},
     "output_type": "execute_result"
    }
   ],
   "source": [
    "str1[-1:-5:-1]"
   ]
  },
  {
   "cell_type": "code",
   "execution_count": 14,
   "id": "5b541eac",
   "metadata": {},
   "outputs": [
    {
     "data": {
      "text/plain": [
       "'a'"
      ]
     },
     "execution_count": 14,
     "metadata": {},
     "output_type": "execute_result"
    }
   ],
   "source": [
    "str1[-4]"
   ]
  },
  {
   "cell_type": "code",
   "execution_count": 15,
   "id": "0c0819f4",
   "metadata": {},
   "outputs": [
    {
     "ename": "TypeError",
     "evalue": "'str' object does not support item assignment",
     "output_type": "error",
     "traceback": [
      "\u001b[1;31m---------------------------------------------------------------------------\u001b[0m",
      "\u001b[1;31mTypeError\u001b[0m                                 Traceback (most recent call last)",
      "\u001b[1;32m~\\AppData\\Local\\Temp/ipykernel_25364/302869166.py\u001b[0m in \u001b[0;36m<module>\u001b[1;34m\u001b[0m\n\u001b[1;32m----> 1\u001b[1;33m \u001b[0mstr1\u001b[0m\u001b[1;33m[\u001b[0m\u001b[1;36m4\u001b[0m\u001b[1;33m]\u001b[0m\u001b[1;33m=\u001b[0m\u001b[1;34m't'\u001b[0m \u001b[1;31m#string is immutable so we can not change it once created\u001b[0m\u001b[1;33m\u001b[0m\u001b[1;33m\u001b[0m\u001b[0m\n\u001b[0m",
      "\u001b[1;31mTypeError\u001b[0m: 'str' object does not support item assignment"
     ]
    }
   ],
   "source": [
    "str1[4]='t' #string is immutable so we can not change it once created"
   ]
  },
  {
   "cell_type": "code",
   "execution_count": 16,
   "id": "1d188efd",
   "metadata": {},
   "outputs": [],
   "source": [
    "del str1,str2,str3,str4,str5,str6"
   ]
  },
  {
   "cell_type": "markdown",
   "id": "6fc8a4e8",
   "metadata": {},
   "source": [
    "# Concatenation"
   ]
  },
  {
   "cell_type": "code",
   "execution_count": 17,
   "id": "6ebf477a",
   "metadata": {},
   "outputs": [
    {
     "data": {
      "text/plain": [
       "'Chetan Bagra'"
      ]
     },
     "execution_count": 17,
     "metadata": {},
     "output_type": "execute_result"
    }
   ],
   "source": [
    "str1='Chetan'+' '+'Bagra'\n",
    "str1"
   ]
  },
  {
   "cell_type": "code",
   "execution_count": 18,
   "id": "f18bfe86",
   "metadata": {},
   "outputs": [
    {
     "data": {
      "text/plain": [
       "'Manish Bagra'"
      ]
     },
     "execution_count": 18,
     "metadata": {},
     "output_type": "execute_result"
    }
   ],
   "source": [
    "str2='Manish'\n",
    "str3='Bagra'\n",
    "str4=str2+' '+str3\n",
    "str4"
   ]
  },
  {
   "cell_type": "code",
   "execution_count": 19,
   "id": "db2efd14",
   "metadata": {},
   "outputs": [
    {
     "name": "stdout",
     "output_type": "stream",
     "text": [
      "C*h*e*t*a*n* *B*a*g*r*a\n"
     ]
    }
   ],
   "source": [
    "print(\"*\".join(str1))"
   ]
  },
  {
   "cell_type": "code",
   "execution_count": 20,
   "id": "921ccc04",
   "metadata": {},
   "outputs": [
    {
     "name": "stdout",
     "output_type": "stream",
     "text": [
      "M-a-n-i-s-h- -B-a-g-r-a\n"
     ]
    }
   ],
   "source": [
    "print(\"-\".join(str4))"
   ]
  },
  {
   "cell_type": "code",
   "execution_count": 21,
   "id": "6c6853bd",
   "metadata": {},
   "outputs": [
    {
     "name": "stdout",
     "output_type": "stream",
     "text": [
      "Chetan-Manish-Karan-Dimple-Naitik-Purvi\n"
     ]
    }
   ],
   "source": [
    "print(\"-\".join([\"Chetan\",\"Manish\",\"Karan\",\"Dimple\",\"Naitik\",\"Purvi\"]))"
   ]
  },
  {
   "cell_type": "code",
   "execution_count": 22,
   "id": "f79355fd",
   "metadata": {},
   "outputs": [
    {
     "name": "stdout",
     "output_type": "stream",
     "text": [
      "ChetanManish\n"
     ]
    }
   ],
   "source": [
    "print(\"%s%s\"%(\"Chetan\",\"Manish\"))"
   ]
  },
  {
   "cell_type": "code",
   "execution_count": 24,
   "id": "ac454de2",
   "metadata": {},
   "outputs": [
    {
     "name": "stdout",
     "output_type": "stream",
     "text": [
      "Chetan and Mnaish are brothers.\n"
     ]
    }
   ],
   "source": [
    "print(\"{} and {} are brothers.\".format(\"Chetan\",\"Mnaish\"))"
   ]
  },
  {
   "cell_type": "markdown",
   "id": "842cc557",
   "metadata": {},
   "source": [
    "# Iterating Through String"
   ]
  },
  {
   "cell_type": "code",
   "execution_count": 25,
   "id": "221773c6",
   "metadata": {},
   "outputs": [
    {
     "name": "stdout",
     "output_type": "stream",
     "text": [
      "C\n",
      "h\n",
      "e\n",
      "t\n",
      "a\n",
      "n\n",
      " \n",
      "B\n",
      "a\n",
      "g\n",
      "r\n",
      "a\n"
     ]
    }
   ],
   "source": [
    "for i in str1:\n",
    "    print(i)"
   ]
  },
  {
   "cell_type": "code",
   "execution_count": 26,
   "id": "9236727a",
   "metadata": {},
   "outputs": [
    {
     "name": "stdout",
     "output_type": "stream",
     "text": [
      "(0, 'C')\n",
      "(1, 'h')\n",
      "(2, 'e')\n",
      "(3, 't')\n",
      "(4, 'a')\n",
      "(5, 'n')\n",
      "(6, ' ')\n",
      "(7, 'B')\n",
      "(8, 'a')\n",
      "(9, 'g')\n",
      "(10, 'r')\n",
      "(11, 'a')\n"
     ]
    }
   ],
   "source": [
    "for i in enumerate(str1):\n",
    "    print(i)"
   ]
  },
  {
   "cell_type": "code",
   "execution_count": 27,
   "id": "91e9a7c2",
   "metadata": {},
   "outputs": [
    {
     "data": {
      "text/plain": [
       "[(0, 'C'),\n",
       " (1, 'h'),\n",
       " (2, 'e'),\n",
       " (3, 't'),\n",
       " (4, 'a'),\n",
       " (5, 'n'),\n",
       " (6, ' '),\n",
       " (7, 'B'),\n",
       " (8, 'a'),\n",
       " (9, 'g'),\n",
       " (10, 'r'),\n",
       " (11, 'a')]"
      ]
     },
     "execution_count": 27,
     "metadata": {},
     "output_type": "execute_result"
    }
   ],
   "source": [
    "list(enumerate(str1))"
   ]
  },
  {
   "cell_type": "markdown",
   "id": "344036cb",
   "metadata": {},
   "source": [
    "# String Membership"
   ]
  },
  {
   "cell_type": "code",
   "execution_count": 28,
   "id": "faa60c12",
   "metadata": {},
   "outputs": [
    {
     "name": "stdout",
     "output_type": "stream",
     "text": [
      "True\n",
      "True\n",
      "False\n",
      "False\n"
     ]
    }
   ],
   "source": [
    "str1=\"my name is chetan bagra.\"\n",
    "print(\"my\" in str1)\n",
    "print(\"is\" in str1)\n",
    "print(\"manish\" in str1)\n",
    "print(\"karan\" in str1)"
   ]
  },
  {
   "cell_type": "markdown",
   "id": "3935e7b0",
   "metadata": {},
   "source": [
    "# String Partiation"
   ]
  },
  {
   "cell_type": "code",
   "execution_count": 29,
   "id": "ce91fb84",
   "metadata": {},
   "outputs": [
    {
     "data": {
      "text/plain": [
       "'\\nThe partition() method searches for a specified string and splits the string into\\n - The first element contains the part before the argument string.\\n - The second element contains the argument string.\\n - The third element contains the part after the argument string.\\n'"
      ]
     },
     "execution_count": 29,
     "metadata": {},
     "output_type": "execute_result"
    }
   ],
   "source": [
    "'''\n",
    "The partition() method searches for a specified string and splits the string into\n",
    " - The first element contains the part before the argument string.\n",
    " - The second element contains the argument string.\n",
    " - The third element contains the part after the argument string.\n",
    "'''"
   ]
  },
  {
   "cell_type": "code",
   "execution_count": 31,
   "id": "8f4a0682",
   "metadata": {},
   "outputs": [
    {
     "data": {
      "text/plain": [
       "('Data Science is better understood in Python ', 'and', ' R and Ruby.')"
      ]
     },
     "execution_count": 31,
     "metadata": {},
     "output_type": "execute_result"
    }
   ],
   "source": [
    "str1=\"Data Science is better understood in Python and R and Ruby.\"\n",
    "l=str1.partition(\"and\")\n",
    "l"
   ]
  },
  {
   "cell_type": "code",
   "execution_count": 32,
   "id": "8ba13dae",
   "metadata": {},
   "outputs": [
    {
     "name": "stdout",
     "output_type": "stream",
     "text": [
      "('Natural language processing with Python and R ', 'and', ' Java')\n"
     ]
    }
   ],
   "source": [
    "# rpartition(str) \n",
    "\"\"\"\n",
    "The rpartition() method searches for the last occurence of the specified string a\n",
    "containing three elements.\n",
    " - The first element contains the part before the argument string.\n",
    " - The second element contains the argument string.\n",
    " - The third element contains the part after the argument string.\n",
    "\"\"\"\n",
    "str5 = \"Natural language processing with Python and R and Java\"\n",
    "L = str5.rpartition(\"and\") \n",
    "print(L)"
   ]
  },
  {
   "cell_type": "markdown",
   "id": "c6703d64",
   "metadata": {},
   "source": [
    "# String Functions"
   ]
  },
  {
   "cell_type": "code",
   "execution_count": 33,
   "id": "bfe23073",
   "metadata": {},
   "outputs": [
    {
     "data": {
      "text/plain": [
       "'hello everyone'"
      ]
     },
     "execution_count": 33,
     "metadata": {},
     "output_type": "execute_result"
    }
   ],
   "source": [
    "str1='     hello everyone     '\n",
    "str1.strip() #remove whitespace from begining and end of the string"
   ]
  },
  {
   "cell_type": "code",
   "execution_count": 34,
   "id": "8b41c8ac",
   "metadata": {},
   "outputs": [
    {
     "data": {
      "text/plain": [
       "'hello everyone     '"
      ]
     },
     "execution_count": 34,
     "metadata": {},
     "output_type": "execute_result"
    }
   ],
   "source": [
    "str1.lstrip() #remove whitespace from begining of the string"
   ]
  },
  {
   "cell_type": "code",
   "execution_count": 35,
   "id": "820b2e40",
   "metadata": {},
   "outputs": [
    {
     "data": {
      "text/plain": [
       "'     hello everyone'"
      ]
     },
     "execution_count": 35,
     "metadata": {},
     "output_type": "execute_result"
    }
   ],
   "source": [
    "str1.rstrip()#remove whitespace from the end of the string"
   ]
  },
  {
   "cell_type": "code",
   "execution_count": 36,
   "id": "5bf2fd19",
   "metadata": {},
   "outputs": [
    {
     "data": {
      "text/plain": [
       "'chetan bagra************you are best'"
      ]
     },
     "execution_count": 36,
     "metadata": {},
     "output_type": "execute_result"
    }
   ],
   "source": [
    "str1='************chetan bagra************you are best**********'\n",
    "str1.strip(\"*\") #remove * from begining and end"
   ]
  },
  {
   "cell_type": "code",
   "execution_count": 37,
   "id": "bde6324f",
   "metadata": {},
   "outputs": [
    {
     "data": {
      "text/plain": [
       "'chetan bagra************you are best**********'"
      ]
     },
     "execution_count": 37,
     "metadata": {},
     "output_type": "execute_result"
    }
   ],
   "source": [
    "str1.lstrip(\"*\") #remove * from begining of the string"
   ]
  },
  {
   "cell_type": "code",
   "execution_count": 38,
   "id": "593a7fac",
   "metadata": {},
   "outputs": [
    {
     "data": {
      "text/plain": [
       "'************chetan bagra************you are best'"
      ]
     },
     "execution_count": 38,
     "metadata": {},
     "output_type": "execute_result"
    }
   ],
   "source": [
    "str1.rstrip(\"*\") #remove * from end of the string"
   ]
  },
  {
   "cell_type": "code",
   "execution_count": 39,
   "id": "ad14ddb6",
   "metadata": {},
   "outputs": [
    {
     "data": {
      "text/plain": [
       "'i am a student of iiit pune.'"
      ]
     },
     "execution_count": 39,
     "metadata": {},
     "output_type": "execute_result"
    }
   ],
   "source": [
    "str1=\"i am a student of IIIT Pune.\"\n",
    "str1.lower() #return all character in lower case"
   ]
  },
  {
   "cell_type": "code",
   "execution_count": 40,
   "id": "9a6f2288",
   "metadata": {},
   "outputs": [
    {
     "data": {
      "text/plain": [
       "'I AM A STUDENT OF IIIT PUNE.'"
      ]
     },
     "execution_count": 40,
     "metadata": {},
     "output_type": "execute_result"
    }
   ],
   "source": [
    "str1.upper() #return all character in upper case"
   ]
  },
  {
   "cell_type": "code",
   "execution_count": 41,
   "id": "7937aacb",
   "metadata": {},
   "outputs": [
    {
     "data": {
      "text/plain": [
       "'heeeo'"
      ]
     },
     "execution_count": 41,
     "metadata": {},
     "output_type": "execute_result"
    }
   ],
   "source": [
    "str1=\"hello\"\n",
    "str1.replace('l','e')"
   ]
  },
  {
   "cell_type": "code",
   "execution_count": 42,
   "id": "229e11f9",
   "metadata": {},
   "outputs": [
    {
     "data": {
      "text/plain": [
       "'htlo htlo'"
      ]
     },
     "execution_count": 42,
     "metadata": {},
     "output_type": "execute_result"
    }
   ],
   "source": [
    "str1='hello hello'\n",
    "str1.replace('el','t')"
   ]
  },
  {
   "cell_type": "code",
   "execution_count": 43,
   "id": "666c0616",
   "metadata": {},
   "outputs": [
    {
     "data": {
      "text/plain": [
       "2"
      ]
     },
     "execution_count": 43,
     "metadata": {},
     "output_type": "execute_result"
    }
   ],
   "source": [
    "str1.count('hello')# return count of str"
   ]
  },
  {
   "cell_type": "code",
   "execution_count": 44,
   "id": "e8a9f450",
   "metadata": {},
   "outputs": [
    {
     "data": {
      "text/plain": [
       "0"
      ]
     },
     "execution_count": 44,
     "metadata": {},
     "output_type": "execute_result"
    }
   ],
   "source": [
    "str1.find('hello')# return starting position of str"
   ]
  },
  {
   "cell_type": "code",
   "execution_count": 45,
   "id": "b9417bca",
   "metadata": {},
   "outputs": [
    {
     "data": {
      "text/plain": [
       "-1"
      ]
     },
     "execution_count": 45,
     "metadata": {},
     "output_type": "execute_result"
    }
   ],
   "source": [
    "str1.find('no') # return -1 if not find the string"
   ]
  },
  {
   "cell_type": "code",
   "execution_count": 46,
   "id": "4f99d6db",
   "metadata": {},
   "outputs": [
    {
     "data": {
      "text/plain": [
       "0"
      ]
     },
     "execution_count": 46,
     "metadata": {},
     "output_type": "execute_result"
    }
   ],
   "source": [
    "str1.index('hello')"
   ]
  },
  {
   "cell_type": "code",
   "execution_count": 47,
   "id": "41048ab2",
   "metadata": {},
   "outputs": [
    {
     "ename": "ValueError",
     "evalue": "substring not found",
     "output_type": "error",
     "traceback": [
      "\u001b[1;31m---------------------------------------------------------------------------\u001b[0m",
      "\u001b[1;31mValueError\u001b[0m                                Traceback (most recent call last)",
      "\u001b[1;32m~\\AppData\\Local\\Temp/ipykernel_25364/786588328.py\u001b[0m in \u001b[0;36m<module>\u001b[1;34m\u001b[0m\n\u001b[1;32m----> 1\u001b[1;33m \u001b[0mstr1\u001b[0m\u001b[1;33m.\u001b[0m\u001b[0mindex\u001b[0m\u001b[1;33m(\u001b[0m\u001b[1;34m'no'\u001b[0m\u001b[1;33m)\u001b[0m\u001b[1;33m\u001b[0m\u001b[1;33m\u001b[0m\u001b[0m\n\u001b[0m",
      "\u001b[1;31mValueError\u001b[0m: substring not found"
     ]
    }
   ],
   "source": [
    "str1.index('no') # erroe if sub-string not found"
   ]
  },
  {
   "cell_type": "code",
   "execution_count": 48,
   "id": "c704c47e",
   "metadata": {},
   "outputs": [
    {
     "data": {
      "text/plain": [
       "6"
      ]
     },
     "execution_count": 48,
     "metadata": {},
     "output_type": "execute_result"
    }
   ],
   "source": [
    "str1.rfind('hello')"
   ]
  },
  {
   "cell_type": "code",
   "execution_count": 49,
   "id": "e96dd6bd",
   "metadata": {},
   "outputs": [
    {
     "data": {
      "text/plain": [
       "6"
      ]
     },
     "execution_count": 49,
     "metadata": {},
     "output_type": "execute_result"
    }
   ],
   "source": [
    "str1.rindex('hello')"
   ]
  },
  {
   "cell_type": "code",
   "execution_count": 51,
   "id": "281dd3cd",
   "metadata": {},
   "outputs": [
    {
     "data": {
      "text/plain": [
       "True"
      ]
     },
     "execution_count": 51,
     "metadata": {},
     "output_type": "execute_result"
    }
   ],
   "source": [
    "str1.startswith('hello') #return true if starts with string"
   ]
  },
  {
   "cell_type": "code",
   "execution_count": 52,
   "id": "dc13fea1",
   "metadata": {},
   "outputs": [
    {
     "data": {
      "text/plain": [
       "True"
      ]
     },
     "execution_count": 52,
     "metadata": {},
     "output_type": "execute_result"
    }
   ],
   "source": [
    "str1.endswith('hello') #return true if ends with string"
   ]
  },
  {
   "cell_type": "code",
   "execution_count": null,
   "id": "31be739f",
   "metadata": {},
   "outputs": [],
   "source": []
  }
 ],
 "metadata": {
  "kernelspec": {
   "display_name": "Python 3.10.7 64-bit",
   "language": "python",
   "name": "python3"
  },
  "language_info": {
   "codemirror_mode": {
    "name": "ipython",
    "version": 3
   },
   "file_extension": ".py",
   "mimetype": "text/x-python",
   "name": "python",
   "nbconvert_exporter": "python",
   "pygments_lexer": "ipython3",
   "version": "3.10.7"
  },
  "vscode": {
   "interpreter": {
    "hash": "d9301f351715a867d1bc8fb08501c60e58ca81704bf7ff03478c999d7c5e9338"
   }
  }
 },
 "nbformat": 4,
 "nbformat_minor": 5
}
